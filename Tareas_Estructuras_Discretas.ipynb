{
  "nbformat": 4,
  "nbformat_minor": 0,
  "metadata": {
    "colab": {
      "provenance": [],
      "authorship_tag": "ABX9TyNI4NIR5kV8K3CdPGTyj0BQ",
      "include_colab_link": true
    },
    "kernelspec": {
      "name": "python3",
      "display_name": "Python 3"
    },
    "language_info": {
      "name": "python"
    }
  },
  "cells": [
    {
      "cell_type": "markdown",
      "metadata": {
        "id": "view-in-github",
        "colab_type": "text"
      },
      "source": [
        "<a href=\"https://colab.research.google.com/github/mystic23/Estructuras_Discretas_Grupo/blob/main/Tareas_Estructuras_Discretas.ipynb\" target=\"_parent\"><img src=\"https://colab.research.google.com/assets/colab-badge.svg\" alt=\"Open In Colab\"/></a>"
      ]
    },
    {
      "cell_type": "markdown",
      "source": [
        "#Clase 25 de Julio\n",
        "**Integrantes:**\n",
        "- David Hernandez\n",
        "- María Solá\n",
        "- Gabriel Ayala\n"
      ],
      "metadata": {
        "id": "sZjwL3rp_as9"
      }
    },
    {
      "cell_type": "markdown",
      "source": [
        "#Teoría\n",
        "Sea $f_{n}$ el número de diagonales interiores de un poligono regular de \"n\" lados"
      ],
      "metadata": {
        "id": "rDNaQdBjAw2C"
      }
    },
    {
      "cell_type": "markdown",
      "source": [
        "#Problema 1:\n",
        "## ¿Cuantas diagonales interiores tiene un poligono de n lados?\n",
        "\n",
        "### Formula utilizada: ⇒   $  \\frac{n \\cdot (n-3)}{2} $"
      ],
      "metadata": {
        "id": "z4g7pldw_ss-"
      }
    },
    {
      "cell_type": "code",
      "execution_count": 2,
      "metadata": {
        "id": "lNVItkfr_aIO"
      },
      "outputs": [],
      "source": [
        "# n*(n-3)/2"
      ]
    },
    {
      "cell_type": "code",
      "source": [
        "\n",
        "for i in range(3,17):\n",
        "  diagonales = i*(i-3)/2\n",
        "  print(\"El numero de lados del poligono es \",i, \" y contiene \", diagonales, \" diagonales interiores\")"
      ],
      "metadata": {
        "colab": {
          "base_uri": "https://localhost:8080/"
        },
        "id": "Ob7gf9m_ALvp",
        "outputId": "e4bf8d31-4736-4bd3-f3c1-fa201b126413"
      },
      "execution_count": 35,
      "outputs": [
        {
          "output_type": "stream",
          "name": "stdout",
          "text": [
            "El numero de lados del poligono es  3  y contiene  0.0  diagonales interiores\n",
            "El numero de lados del poligono es  4  y contiene  2.0  diagonales interiores\n",
            "El numero de lados del poligono es  5  y contiene  5.0  diagonales interiores\n",
            "El numero de lados del poligono es  6  y contiene  9.0  diagonales interiores\n",
            "El numero de lados del poligono es  7  y contiene  14.0  diagonales interiores\n",
            "El numero de lados del poligono es  8  y contiene  20.0  diagonales interiores\n",
            "El numero de lados del poligono es  9  y contiene  27.0  diagonales interiores\n",
            "El numero de lados del poligono es  10  y contiene  35.0  diagonales interiores\n",
            "El numero de lados del poligono es  11  y contiene  44.0  diagonales interiores\n",
            "El numero de lados del poligono es  12  y contiene  54.0  diagonales interiores\n",
            "El numero de lados del poligono es  13  y contiene  65.0  diagonales interiores\n",
            "El numero de lados del poligono es  14  y contiene  77.0  diagonales interiores\n",
            "El numero de lados del poligono es  15  y contiene  90.0  diagonales interiores\n",
            "El numero de lados del poligono es  16  y contiene  104.0  diagonales interiores\n"
          ]
        }
      ]
    },
    {
      "cell_type": "code",
      "source": [
        "for i in range(3,17):\n",
        "  diagonales = (i-1)+(i-2)\n",
        "  print(\"El numero de lados del poligono es \",i, \" y contiene \", diagonales, \" diagonales interiores\")"
      ],
      "metadata": {
        "colab": {
          "base_uri": "https://localhost:8080/"
        },
        "id": "zrQMQiLWJ1KC",
        "outputId": "a5180324-3621-481d-e492-5558ae700a95"
      },
      "execution_count": 64,
      "outputs": [
        {
          "output_type": "stream",
          "name": "stdout",
          "text": [
            "El numero de lados del poligono es  0  y contiene  -3  diagonales interiores\n",
            "El numero de lados del poligono es  1  y contiene  -1  diagonales interiores\n",
            "El numero de lados del poligono es  2  y contiene  1  diagonales interiores\n",
            "El numero de lados del poligono es  3  y contiene  3  diagonales interiores\n",
            "El numero de lados del poligono es  4  y contiene  5  diagonales interiores\n",
            "El numero de lados del poligono es  5  y contiene  7  diagonales interiores\n",
            "El numero de lados del poligono es  6  y contiene  9  diagonales interiores\n",
            "El numero de lados del poligono es  7  y contiene  11  diagonales interiores\n",
            "El numero de lados del poligono es  8  y contiene  13  diagonales interiores\n",
            "El numero de lados del poligono es  9  y contiene  15  diagonales interiores\n",
            "El numero de lados del poligono es  10  y contiene  17  diagonales interiores\n",
            "El numero de lados del poligono es  11  y contiene  19  diagonales interiores\n",
            "El numero de lados del poligono es  12  y contiene  21  diagonales interiores\n",
            "El numero de lados del poligono es  13  y contiene  23  diagonales interiores\n",
            "El numero de lados del poligono es  14  y contiene  25  diagonales interiores\n",
            "El numero de lados del poligono es  15  y contiene  27  diagonales interiores\n",
            "El numero de lados del poligono es  16  y contiene  29  diagonales interiores\n"
          ]
        }
      ]
    },
    {
      "cell_type": "markdown",
      "source": [
        "#Problema 1:\n",
        "## ¿Cuantas diagonales interiores sin chocar tiene un poligono de n lados?\n",
        "\n",
        "### Formula utilizada: ⇒   $ n - 3 $"
      ],
      "metadata": {
        "id": "xbcXC1L9DLT4"
      }
    },
    {
      "cell_type": "code",
      "source": [
        "\n",
        "\n",
        "for i in range(3,10):\n",
        "  sinchocar = i-3\n",
        "  print(\"El numero de lados del poligono es \",i, \" y contiene sin chocar  \", sinchocar, \" diagonales\")"
      ],
      "metadata": {
        "colab": {
          "base_uri": "https://localhost:8080/"
        },
        "id": "AXczm8WKDX_K",
        "outputId": "febcfacc-c2d5-44ef-9db3-af2371f5a369"
      },
      "execution_count": 32,
      "outputs": [
        {
          "output_type": "stream",
          "name": "stdout",
          "text": [
            "El numero de lados del poligono es  3  y contiene sin chocar   0  diagonales\n",
            "El numero de lados del poligono es  4  y contiene sin chocar   1  diagonales\n",
            "El numero de lados del poligono es  5  y contiene sin chocar   2  diagonales\n",
            "El numero de lados del poligono es  6  y contiene sin chocar   3  diagonales\n",
            "El numero de lados del poligono es  7  y contiene sin chocar   4  diagonales\n",
            "El numero de lados del poligono es  8  y contiene sin chocar   5  diagonales\n",
            "El numero de lados del poligono es  9  y contiene sin chocar   6  diagonales\n"
          ]
        }
      ]
    }
  ]
}